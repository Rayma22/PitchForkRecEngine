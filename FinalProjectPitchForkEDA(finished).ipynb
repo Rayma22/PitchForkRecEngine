{
  "cells": [
    {
      "cell_type": "code",
      "execution_count": null,
      "metadata": {
        "id": "QuAVUKLiuDRh"
      },
      "outputs": [],
      "source": [
        "import pandas as pd\n",
        "import seaborn as sns\n",
        "import matplotlib.pyplot as plt\n",
        "import numpy as np"
      ]
    },
    {
      "cell_type": "markdown",
      "metadata": {
        "id": "TH5oeUkmuDRm"
      },
      "source": [
        "https://www.kaggle.com/datasets/nolanbconaway/pitchfork-data/data"
      ]
    },
    {
      "cell_type": "code",
      "source": [
        "df = pd.read_csv('PitchforkDatav2.csv')"
      ],
      "metadata": {
        "id": "nT08f-nnzEIN"
      },
      "execution_count": null,
      "outputs": []
    },
    {
      "cell_type": "code",
      "execution_count": null,
      "metadata": {
        "id": "-2PeImsPuDRp"
      },
      "outputs": [],
      "source": [
        "df = pd.read_csv(r\"C:\\Users\\majon\\OneDrive\\Pulpit\\IE docs\\SEMESTER 5\\Recommendation Engines\\Final Project\\PitchforkDatav2.csv\")"
      ]
    },
    {
      "cell_type": "code",
      "execution_count": null,
      "metadata": {
        "id": "37IQJpE-uDRs",
        "outputId": "a26e03fa-fda0-41f9-f6e2-d4be4f8b62b9"
      },
      "outputs": [
        {
          "data": {
            "text/html": [
              "<div>\n",
              "<style scoped>\n",
              "    .dataframe tbody tr th:only-of-type {\n",
              "        vertical-align: middle;\n",
              "    }\n",
              "\n",
              "    .dataframe tbody tr th {\n",
              "        vertical-align: top;\n",
              "    }\n",
              "\n",
              "    .dataframe thead th {\n",
              "        text-align: right;\n",
              "    }\n",
              "</style>\n",
              "<table border=\"1\" class=\"dataframe\">\n",
              "  <thead>\n",
              "    <tr style=\"text-align: right;\">\n",
              "      <th></th>\n",
              "      <th>reviewid</th>\n",
              "      <th>title</th>\n",
              "      <th>artist</th>\n",
              "      <th>url</th>\n",
              "      <th>score</th>\n",
              "      <th>best_new_music</th>\n",
              "      <th>author</th>\n",
              "      <th>author_type</th>\n",
              "      <th>pub_date</th>\n",
              "      <th>pub_weekday</th>\n",
              "      <th>pub_day</th>\n",
              "      <th>pub_month</th>\n",
              "      <th>pub_year</th>\n",
              "      <th>genre</th>\n",
              "    </tr>\n",
              "  </thead>\n",
              "  <tbody>\n",
              "    <tr>\n",
              "      <th>0</th>\n",
              "      <td>22703</td>\n",
              "      <td>mezzanine</td>\n",
              "      <td>massive attack</td>\n",
              "      <td>http://pitchfork.com/reviews/albums/22703-mezz...</td>\n",
              "      <td>9.3</td>\n",
              "      <td>0</td>\n",
              "      <td>nate patrin</td>\n",
              "      <td>contributor</td>\n",
              "      <td>08/01/2017</td>\n",
              "      <td>6</td>\n",
              "      <td>8</td>\n",
              "      <td>1</td>\n",
              "      <td>2017</td>\n",
              "      <td>electronic</td>\n",
              "    </tr>\n",
              "    <tr>\n",
              "      <th>1</th>\n",
              "      <td>22721</td>\n",
              "      <td>prelapsarian</td>\n",
              "      <td>krallice</td>\n",
              "      <td>http://pitchfork.com/reviews/albums/22721-prel...</td>\n",
              "      <td>7.9</td>\n",
              "      <td>0</td>\n",
              "      <td>zoe camp</td>\n",
              "      <td>contributor</td>\n",
              "      <td>07/01/2017</td>\n",
              "      <td>5</td>\n",
              "      <td>7</td>\n",
              "      <td>1</td>\n",
              "      <td>2017</td>\n",
              "      <td>metal</td>\n",
              "    </tr>\n",
              "    <tr>\n",
              "      <th>2</th>\n",
              "      <td>22659</td>\n",
              "      <td>all of them naturals</td>\n",
              "      <td>uranium club</td>\n",
              "      <td>http://pitchfork.com/reviews/albums/22659-all-...</td>\n",
              "      <td>7.3</td>\n",
              "      <td>0</td>\n",
              "      <td>david glickman</td>\n",
              "      <td>contributor</td>\n",
              "      <td>07/01/2017</td>\n",
              "      <td>5</td>\n",
              "      <td>7</td>\n",
              "      <td>1</td>\n",
              "      <td>2017</td>\n",
              "      <td>rock</td>\n",
              "    </tr>\n",
              "    <tr>\n",
              "      <th>3</th>\n",
              "      <td>22661</td>\n",
              "      <td>first songs</td>\n",
              "      <td>kleenex, liliput</td>\n",
              "      <td>http://pitchfork.com/reviews/albums/22661-firs...</td>\n",
              "      <td>9.0</td>\n",
              "      <td>1</td>\n",
              "      <td>jenn pelly</td>\n",
              "      <td>associate reviews editor</td>\n",
              "      <td>06/01/2017</td>\n",
              "      <td>4</td>\n",
              "      <td>6</td>\n",
              "      <td>1</td>\n",
              "      <td>2017</td>\n",
              "      <td>rock</td>\n",
              "    </tr>\n",
              "    <tr>\n",
              "      <th>4</th>\n",
              "      <td>22725</td>\n",
              "      <td>new start</td>\n",
              "      <td>taso</td>\n",
              "      <td>http://pitchfork.com/reviews/albums/22725-new-...</td>\n",
              "      <td>8.1</td>\n",
              "      <td>0</td>\n",
              "      <td>kevin lozano</td>\n",
              "      <td>tracks coordinator</td>\n",
              "      <td>06/01/2017</td>\n",
              "      <td>4</td>\n",
              "      <td>6</td>\n",
              "      <td>1</td>\n",
              "      <td>2017</td>\n",
              "      <td>electronic</td>\n",
              "    </tr>\n",
              "  </tbody>\n",
              "</table>\n",
              "</div>"
            ],
            "text/plain": [
              "   reviewid                 title            artist  \\\n",
              "0     22703             mezzanine    massive attack   \n",
              "1     22721          prelapsarian          krallice   \n",
              "2     22659  all of them naturals      uranium club   \n",
              "3     22661           first songs  kleenex, liliput   \n",
              "4     22725             new start              taso   \n",
              "\n",
              "                                                 url  score  best_new_music  \\\n",
              "0  http://pitchfork.com/reviews/albums/22703-mezz...    9.3               0   \n",
              "1  http://pitchfork.com/reviews/albums/22721-prel...    7.9               0   \n",
              "2  http://pitchfork.com/reviews/albums/22659-all-...    7.3               0   \n",
              "3  http://pitchfork.com/reviews/albums/22661-firs...    9.0               1   \n",
              "4  http://pitchfork.com/reviews/albums/22725-new-...    8.1               0   \n",
              "\n",
              "           author               author_type    pub_date  pub_weekday  pub_day  \\\n",
              "0     nate patrin               contributor  08/01/2017            6        8   \n",
              "1        zoe camp               contributor  07/01/2017            5        7   \n",
              "2  david glickman               contributor  07/01/2017            5        7   \n",
              "3      jenn pelly  associate reviews editor  06/01/2017            4        6   \n",
              "4    kevin lozano        tracks coordinator  06/01/2017            4        6   \n",
              "\n",
              "   pub_month  pub_year       genre  \n",
              "0          1      2017  electronic  \n",
              "1          1      2017       metal  \n",
              "2          1      2017        rock  \n",
              "3          1      2017        rock  \n",
              "4          1      2017  electronic  "
            ]
          },
          "execution_count": 3,
          "metadata": {},
          "output_type": "execute_result"
        }
      ],
      "source": [
        "df.head(5)"
      ]
    },
    {
      "cell_type": "code",
      "execution_count": null,
      "metadata": {
        "id": "mlL57i5cuDRw",
        "outputId": "ed48f8e4-9e52-4bee-a139-64c3d7c4e773"
      },
      "outputs": [
        {
          "data": {
            "text/html": [
              "<div>\n",
              "<style scoped>\n",
              "    .dataframe tbody tr th:only-of-type {\n",
              "        vertical-align: middle;\n",
              "    }\n",
              "\n",
              "    .dataframe tbody tr th {\n",
              "        vertical-align: top;\n",
              "    }\n",
              "\n",
              "    .dataframe thead th {\n",
              "        text-align: right;\n",
              "    }\n",
              "</style>\n",
              "<table border=\"1\" class=\"dataframe\">\n",
              "  <thead>\n",
              "    <tr style=\"text-align: right;\">\n",
              "      <th></th>\n",
              "      <th>reviewid</th>\n",
              "      <th>score</th>\n",
              "      <th>best_new_music</th>\n",
              "      <th>pub_weekday</th>\n",
              "      <th>pub_day</th>\n",
              "      <th>pub_month</th>\n",
              "      <th>pub_year</th>\n",
              "    </tr>\n",
              "  </thead>\n",
              "  <tbody>\n",
              "    <tr>\n",
              "      <th>count</th>\n",
              "      <td>22690.000000</td>\n",
              "      <td>22690.000000</td>\n",
              "      <td>22690.000000</td>\n",
              "      <td>22690.000000</td>\n",
              "      <td>22690.000000</td>\n",
              "      <td>22690.000000</td>\n",
              "      <td>22690.000000</td>\n",
              "    </tr>\n",
              "    <tr>\n",
              "      <th>mean</th>\n",
              "      <td>12034.507977</td>\n",
              "      <td>6.991155</td>\n",
              "      <td>0.049890</td>\n",
              "      <td>2.107404</td>\n",
              "      <td>15.537373</td>\n",
              "      <td>6.276069</td>\n",
              "      <td>2008.446584</td>\n",
              "    </tr>\n",
              "    <tr>\n",
              "      <th>std</th>\n",
              "      <td>6234.605984</td>\n",
              "      <td>1.305532</td>\n",
              "      <td>0.217722</td>\n",
              "      <td>1.640818</td>\n",
              "      <td>8.764822</td>\n",
              "      <td>3.311968</td>\n",
              "      <td>4.552492</td>\n",
              "    </tr>\n",
              "    <tr>\n",
              "      <th>min</th>\n",
              "      <td>1.000000</td>\n",
              "      <td>0.000000</td>\n",
              "      <td>0.000000</td>\n",
              "      <td>0.000000</td>\n",
              "      <td>1.000000</td>\n",
              "      <td>1.000000</td>\n",
              "      <td>1999.000000</td>\n",
              "    </tr>\n",
              "    <tr>\n",
              "      <th>25%</th>\n",
              "      <td>7103.250000</td>\n",
              "      <td>6.400000</td>\n",
              "      <td>0.000000</td>\n",
              "      <td>1.000000</td>\n",
              "      <td>8.000000</td>\n",
              "      <td>3.000000</td>\n",
              "      <td>2005.000000</td>\n",
              "    </tr>\n",
              "    <tr>\n",
              "      <th>50%</th>\n",
              "      <td>12426.000000</td>\n",
              "      <td>7.200000</td>\n",
              "      <td>0.000000</td>\n",
              "      <td>2.000000</td>\n",
              "      <td>15.000000</td>\n",
              "      <td>6.000000</td>\n",
              "      <td>2008.000000</td>\n",
              "    </tr>\n",
              "    <tr>\n",
              "      <th>75%</th>\n",
              "      <td>17062.750000</td>\n",
              "      <td>7.800000</td>\n",
              "      <td>0.000000</td>\n",
              "      <td>3.000000</td>\n",
              "      <td>23.000000</td>\n",
              "      <td>9.000000</td>\n",
              "      <td>2012.000000</td>\n",
              "    </tr>\n",
              "    <tr>\n",
              "      <th>max</th>\n",
              "      <td>22745.000000</td>\n",
              "      <td>10.000000</td>\n",
              "      <td>1.000000</td>\n",
              "      <td>6.000000</td>\n",
              "      <td>31.000000</td>\n",
              "      <td>12.000000</td>\n",
              "      <td>2017.000000</td>\n",
              "    </tr>\n",
              "  </tbody>\n",
              "</table>\n",
              "</div>"
            ],
            "text/plain": [
              "           reviewid         score  best_new_music   pub_weekday       pub_day  \\\n",
              "count  22690.000000  22690.000000    22690.000000  22690.000000  22690.000000   \n",
              "mean   12034.507977      6.991155        0.049890      2.107404     15.537373   \n",
              "std     6234.605984      1.305532        0.217722      1.640818      8.764822   \n",
              "min        1.000000      0.000000        0.000000      0.000000      1.000000   \n",
              "25%     7103.250000      6.400000        0.000000      1.000000      8.000000   \n",
              "50%    12426.000000      7.200000        0.000000      2.000000     15.000000   \n",
              "75%    17062.750000      7.800000        0.000000      3.000000     23.000000   \n",
              "max    22745.000000     10.000000        1.000000      6.000000     31.000000   \n",
              "\n",
              "          pub_month      pub_year  \n",
              "count  22690.000000  22690.000000  \n",
              "mean       6.276069   2008.446584  \n",
              "std        3.311968      4.552492  \n",
              "min        1.000000   1999.000000  \n",
              "25%        3.000000   2005.000000  \n",
              "50%        6.000000   2008.000000  \n",
              "75%        9.000000   2012.000000  \n",
              "max       12.000000   2017.000000  "
            ]
          },
          "execution_count": 61,
          "metadata": {},
          "output_type": "execute_result"
        }
      ],
      "source": [
        "df.describe()"
      ]
    },
    {
      "cell_type": "code",
      "execution_count": null,
      "metadata": {
        "id": "uHyvB-2NuDRz",
        "outputId": "41673ef0-f608-4c5b-c635-c8f58f82c63c"
      },
      "outputs": [
        {
          "data": {
            "text/html": [
              "<div>\n",
              "<style scoped>\n",
              "    .dataframe tbody tr th:only-of-type {\n",
              "        vertical-align: middle;\n",
              "    }\n",
              "\n",
              "    .dataframe tbody tr th {\n",
              "        vertical-align: top;\n",
              "    }\n",
              "\n",
              "    .dataframe thead th {\n",
              "        text-align: right;\n",
              "    }\n",
              "</style>\n",
              "<table border=\"1\" class=\"dataframe\">\n",
              "  <thead>\n",
              "    <tr style=\"text-align: right;\">\n",
              "      <th></th>\n",
              "      <th>reviewid</th>\n",
              "      <th>title</th>\n",
              "      <th>artist</th>\n",
              "      <th>url</th>\n",
              "      <th>score</th>\n",
              "      <th>best_new_music</th>\n",
              "      <th>author</th>\n",
              "      <th>author_type</th>\n",
              "      <th>pub_date</th>\n",
              "      <th>pub_weekday</th>\n",
              "      <th>pub_day</th>\n",
              "      <th>pub_month</th>\n",
              "      <th>pub_year</th>\n",
              "      <th>genre</th>\n",
              "    </tr>\n",
              "  </thead>\n",
              "  <tbody>\n",
              "    <tr>\n",
              "      <th>15272</th>\n",
              "      <td>2642</td>\n",
              "      <td>ships</td>\n",
              "      <td>danielson famile</td>\n",
              "      <td>http://pitchfork.com/reviews/albums/2642-ships/</td>\n",
              "      <td>9.1</td>\n",
              "      <td>1</td>\n",
              "      <td>ryan schreiber</td>\n",
              "      <td>editor-in-chief</td>\n",
              "      <td>10/05/2006</td>\n",
              "      <td>2</td>\n",
              "      <td>10</td>\n",
              "      <td>5</td>\n",
              "      <td>2006</td>\n",
              "      <td>rock</td>\n",
              "    </tr>\n",
              "  </tbody>\n",
              "</table>\n",
              "</div>"
            ],
            "text/plain": [
              "       reviewid  title            artist  \\\n",
              "15272      2642  ships  danielson famile   \n",
              "\n",
              "                                                   url  score  best_new_music  \\\n",
              "15272  http://pitchfork.com/reviews/albums/2642-ships/    9.1               1   \n",
              "\n",
              "               author      author_type    pub_date  pub_weekday  pub_day  \\\n",
              "15272  ryan schreiber  editor-in-chief  10/05/2006            2       10   \n",
              "\n",
              "       pub_month  pub_year genre  \n",
              "15272          5      2006  rock  "
            ]
          },
          "execution_count": 4,
          "metadata": {},
          "output_type": "execute_result"
        }
      ],
      "source": [
        "df[df['title'] == 'ships']"
      ]
    },
    {
      "cell_type": "code",
      "execution_count": null,
      "metadata": {
        "id": "mHFHRI5PuDR2",
        "outputId": "cefcede3-28d3-4943-b11a-256dfa14c7f4"
      },
      "outputs": [
        {
          "data": {
            "text/html": [
              "<div>\n",
              "<style scoped>\n",
              "    .dataframe tbody tr th:only-of-type {\n",
              "        vertical-align: middle;\n",
              "    }\n",
              "\n",
              "    .dataframe tbody tr th {\n",
              "        vertical-align: top;\n",
              "    }\n",
              "\n",
              "    .dataframe thead th {\n",
              "        text-align: right;\n",
              "    }\n",
              "</style>\n",
              "<table border=\"1\" class=\"dataframe\">\n",
              "  <thead>\n",
              "    <tr style=\"text-align: right;\">\n",
              "      <th></th>\n",
              "      <th>reviewid</th>\n",
              "      <th>title</th>\n",
              "      <th>artist</th>\n",
              "      <th>url</th>\n",
              "      <th>score</th>\n",
              "      <th>best_new_music</th>\n",
              "      <th>author</th>\n",
              "      <th>author_type</th>\n",
              "      <th>pub_date</th>\n",
              "      <th>pub_weekday</th>\n",
              "      <th>pub_day</th>\n",
              "      <th>pub_month</th>\n",
              "      <th>pub_year</th>\n",
              "      <th>genre</th>\n",
              "    </tr>\n",
              "  </thead>\n",
              "  <tbody>\n",
              "    <tr>\n",
              "      <th>15067</th>\n",
              "      <td>9151</td>\n",
              "      <td>greatest hits: why try harder</td>\n",
              "      <td>fatboy slim</td>\n",
              "      <td>http://pitchfork.com/reviews/albums/9151-great...</td>\n",
              "      <td>6.7</td>\n",
              "      <td>0</td>\n",
              "      <td>marc hogan</td>\n",
              "      <td>senior staff writer</td>\n",
              "      <td>27/06/2006</td>\n",
              "      <td>1</td>\n",
              "      <td>27</td>\n",
              "      <td>6</td>\n",
              "      <td>2006</td>\n",
              "      <td>electronic</td>\n",
              "    </tr>\n",
              "    <tr>\n",
              "      <th>17717</th>\n",
              "      <td>3011</td>\n",
              "      <td>palookaville</td>\n",
              "      <td>fatboy slim</td>\n",
              "      <td>http://pitchfork.com/reviews/albums/3011-paloo...</td>\n",
              "      <td>4.6</td>\n",
              "      <td>0</td>\n",
              "      <td>johnny loftus</td>\n",
              "      <td>NaN</td>\n",
              "      <td>05/10/2004</td>\n",
              "      <td>1</td>\n",
              "      <td>5</td>\n",
              "      <td>10</td>\n",
              "      <td>2004</td>\n",
              "      <td>electronic</td>\n",
              "    </tr>\n",
              "    <tr>\n",
              "      <th>22000</th>\n",
              "      <td>3008</td>\n",
              "      <td>halfway between the gutter and the stars</td>\n",
              "      <td>fatboy slim</td>\n",
              "      <td>http://pitchfork.com/reviews/albums/3008-halfw...</td>\n",
              "      <td>4.2</td>\n",
              "      <td>0</td>\n",
              "      <td>richard m. juzwiak</td>\n",
              "      <td>contributor</td>\n",
              "      <td>07/11/2000</td>\n",
              "      <td>1</td>\n",
              "      <td>7</td>\n",
              "      <td>11</td>\n",
              "      <td>2000</td>\n",
              "      <td>electronic</td>\n",
              "    </tr>\n",
              "    <tr>\n",
              "      <th>22233</th>\n",
              "      <td>3009</td>\n",
              "      <td>essential selection, vol. 1</td>\n",
              "      <td>fatboy slim</td>\n",
              "      <td>http://pitchfork.com/reviews/albums/3009-essen...</td>\n",
              "      <td>8.0</td>\n",
              "      <td>0</td>\n",
              "      <td>james p. wisdom</td>\n",
              "      <td>NaN</td>\n",
              "      <td>16/05/2000</td>\n",
              "      <td>1</td>\n",
              "      <td>16</td>\n",
              "      <td>5</td>\n",
              "      <td>2000</td>\n",
              "      <td>electronic</td>\n",
              "    </tr>\n",
              "    <tr>\n",
              "      <th>22320</th>\n",
              "      <td>3007</td>\n",
              "      <td>on the floor at the boutique</td>\n",
              "      <td>fatboy slim</td>\n",
              "      <td>http://pitchfork.com/reviews/albums/3007-on-th...</td>\n",
              "      <td>7.3</td>\n",
              "      <td>0</td>\n",
              "      <td>ryan schreiber</td>\n",
              "      <td>editor-in-chief</td>\n",
              "      <td>28/03/2000</td>\n",
              "      <td>1</td>\n",
              "      <td>28</td>\n",
              "      <td>3</td>\n",
              "      <td>2000</td>\n",
              "      <td>electronic</td>\n",
              "    </tr>\n",
              "  </tbody>\n",
              "</table>\n",
              "</div>"
            ],
            "text/plain": [
              "       reviewid                                     title       artist  \\\n",
              "15067      9151             greatest hits: why try harder  fatboy slim   \n",
              "17717      3011                              palookaville  fatboy slim   \n",
              "22000      3008  halfway between the gutter and the stars  fatboy slim   \n",
              "22233      3009               essential selection, vol. 1  fatboy slim   \n",
              "22320      3007              on the floor at the boutique  fatboy slim   \n",
              "\n",
              "                                                     url  score  \\\n",
              "15067  http://pitchfork.com/reviews/albums/9151-great...    6.7   \n",
              "17717  http://pitchfork.com/reviews/albums/3011-paloo...    4.6   \n",
              "22000  http://pitchfork.com/reviews/albums/3008-halfw...    4.2   \n",
              "22233  http://pitchfork.com/reviews/albums/3009-essen...    8.0   \n",
              "22320  http://pitchfork.com/reviews/albums/3007-on-th...    7.3   \n",
              "\n",
              "       best_new_music              author          author_type    pub_date  \\\n",
              "15067               0          marc hogan  senior staff writer  27/06/2006   \n",
              "17717               0       johnny loftus                  NaN  05/10/2004   \n",
              "22000               0  richard m. juzwiak          contributor  07/11/2000   \n",
              "22233               0     james p. wisdom                  NaN  16/05/2000   \n",
              "22320               0      ryan schreiber      editor-in-chief  28/03/2000   \n",
              "\n",
              "       pub_weekday  pub_day  pub_month  pub_year       genre  \n",
              "15067            1       27          6      2006  electronic  \n",
              "17717            1        5         10      2004  electronic  \n",
              "22000            1        7         11      2000  electronic  \n",
              "22233            1       16          5      2000  electronic  \n",
              "22320            1       28          3      2000  electronic  "
            ]
          },
          "execution_count": 5,
          "metadata": {},
          "output_type": "execute_result"
        }
      ],
      "source": [
        "df[df['artist'] == 'fatboy slim']"
      ]
    },
    {
      "cell_type": "code",
      "execution_count": null,
      "metadata": {
        "id": "lK4qvxW-uDR6",
        "outputId": "65da4f64-0d57-4f9b-9e60-9452b1333166"
      },
      "outputs": [
        {
          "data": {
            "text/html": [
              "<div>\n",
              "<style scoped>\n",
              "    .dataframe tbody tr th:only-of-type {\n",
              "        vertical-align: middle;\n",
              "    }\n",
              "\n",
              "    .dataframe tbody tr th {\n",
              "        vertical-align: top;\n",
              "    }\n",
              "\n",
              "    .dataframe thead th {\n",
              "        text-align: right;\n",
              "    }\n",
              "</style>\n",
              "<table border=\"1\" class=\"dataframe\">\n",
              "  <thead>\n",
              "    <tr style=\"text-align: right;\">\n",
              "      <th></th>\n",
              "      <th>reviewid</th>\n",
              "      <th>title</th>\n",
              "      <th>artist</th>\n",
              "      <th>url</th>\n",
              "      <th>score</th>\n",
              "      <th>best_new_music</th>\n",
              "      <th>author</th>\n",
              "      <th>author_type</th>\n",
              "      <th>pub_date</th>\n",
              "      <th>pub_weekday</th>\n",
              "      <th>pub_day</th>\n",
              "      <th>pub_month</th>\n",
              "      <th>pub_year</th>\n",
              "      <th>genre</th>\n",
              "    </tr>\n",
              "  </thead>\n",
              "  <tbody>\n",
              "    <tr>\n",
              "      <th>12959</th>\n",
              "      <td>10871</td>\n",
              "      <td>friend ep</td>\n",
              "      <td>grizzly bear</td>\n",
              "      <td>http://pitchfork.com/reviews/albums/10871-frie...</td>\n",
              "      <td>8.5</td>\n",
              "      <td>1</td>\n",
              "      <td>ryan schreiber</td>\n",
              "      <td>editor-in-chief</td>\n",
              "      <td>06/11/2007</td>\n",
              "      <td>1</td>\n",
              "      <td>6</td>\n",
              "      <td>11</td>\n",
              "      <td>2007</td>\n",
              "      <td>rock</td>\n",
              "    </tr>\n",
              "    <tr>\n",
              "      <th>15272</th>\n",
              "      <td>2642</td>\n",
              "      <td>ships</td>\n",
              "      <td>danielson famile</td>\n",
              "      <td>http://pitchfork.com/reviews/albums/2642-ships/</td>\n",
              "      <td>9.1</td>\n",
              "      <td>1</td>\n",
              "      <td>ryan schreiber</td>\n",
              "      <td>editor-in-chief</td>\n",
              "      <td>10/05/2006</td>\n",
              "      <td>2</td>\n",
              "      <td>10</td>\n",
              "      <td>5</td>\n",
              "      <td>2006</td>\n",
              "      <td>rock</td>\n",
              "    </tr>\n",
              "    <tr>\n",
              "      <th>16649</th>\n",
              "      <td>8791</td>\n",
              "      <td>wilderness</td>\n",
              "      <td>wilderness</td>\n",
              "      <td>http://pitchfork.com/reviews/albums/8791-wilde...</td>\n",
              "      <td>8.5</td>\n",
              "      <td>1</td>\n",
              "      <td>ryan schreiber</td>\n",
              "      <td>editor-in-chief</td>\n",
              "      <td>23/06/2005</td>\n",
              "      <td>3</td>\n",
              "      <td>23</td>\n",
              "      <td>6</td>\n",
              "      <td>2005</td>\n",
              "      <td>rock</td>\n",
              "    </tr>\n",
              "    <tr>\n",
              "      <th>17074</th>\n",
              "      <td>644</td>\n",
              "      <td>whatever and ever amen</td>\n",
              "      <td>ben folds five</td>\n",
              "      <td>http://pitchfork.com/reviews/albums/644-whatev...</td>\n",
              "      <td>7.6</td>\n",
              "      <td>0</td>\n",
              "      <td>ryan schreiber</td>\n",
              "      <td>editor-in-chief</td>\n",
              "      <td>22/03/2005</td>\n",
              "      <td>1</td>\n",
              "      <td>22</td>\n",
              "      <td>3</td>\n",
              "      <td>2005</td>\n",
              "      <td>rock</td>\n",
              "    </tr>\n",
              "    <tr>\n",
              "      <th>17609</th>\n",
              "      <td>3654</td>\n",
              "      <td>thunder, lightning, strike</td>\n",
              "      <td>the go! team</td>\n",
              "      <td>http://pitchfork.com/reviews/albums/3654-thund...</td>\n",
              "      <td>8.7</td>\n",
              "      <td>1</td>\n",
              "      <td>ryan schreiber</td>\n",
              "      <td>editor-in-chief</td>\n",
              "      <td>26/10/2004</td>\n",
              "      <td>1</td>\n",
              "      <td>26</td>\n",
              "      <td>10</td>\n",
              "      <td>2004</td>\n",
              "      <td>rock</td>\n",
              "    </tr>\n",
              "    <tr>\n",
              "      <th>...</th>\n",
              "      <td>...</td>\n",
              "      <td>...</td>\n",
              "      <td>...</td>\n",
              "      <td>...</td>\n",
              "      <td>...</td>\n",
              "      <td>...</td>\n",
              "      <td>...</td>\n",
              "      <td>...</td>\n",
              "      <td>...</td>\n",
              "      <td>...</td>\n",
              "      <td>...</td>\n",
              "      <td>...</td>\n",
              "      <td>...</td>\n",
              "      <td>...</td>\n",
              "    </tr>\n",
              "    <tr>\n",
              "      <th>22656</th>\n",
              "      <td>4324</td>\n",
              "      <td>rehearsals for departure</td>\n",
              "      <td>damien jurado</td>\n",
              "      <td>http://pitchfork.com/reviews/albums/4324-rehea...</td>\n",
              "      <td>8.2</td>\n",
              "      <td>0</td>\n",
              "      <td>ryan schreiber</td>\n",
              "      <td>editor-in-chief</td>\n",
              "      <td>04/03/1999</td>\n",
              "      <td>3</td>\n",
              "      <td>4</td>\n",
              "      <td>3</td>\n",
              "      <td>1999</td>\n",
              "      <td>rock</td>\n",
              "    </tr>\n",
              "    <tr>\n",
              "      <th>22657</th>\n",
              "      <td>7449</td>\n",
              "      <td>budakhan mindphone ep</td>\n",
              "      <td>squarepusher</td>\n",
              "      <td>http://pitchfork.com/reviews/albums/7449-budak...</td>\n",
              "      <td>7.5</td>\n",
              "      <td>0</td>\n",
              "      <td>ryan schreiber</td>\n",
              "      <td>editor-in-chief</td>\n",
              "      <td>02/03/1999</td>\n",
              "      <td>1</td>\n",
              "      <td>2</td>\n",
              "      <td>3</td>\n",
              "      <td>1999</td>\n",
              "      <td>electronic</td>\n",
              "    </tr>\n",
              "    <tr>\n",
              "      <th>22666</th>\n",
              "      <td>7460</td>\n",
              "      <td>fell in love at 22 ep</td>\n",
              "      <td>starflyer 59</td>\n",
              "      <td>http://pitchfork.com/reviews/albums/7460-fell-...</td>\n",
              "      <td>8.5</td>\n",
              "      <td>0</td>\n",
              "      <td>ryan schreiber</td>\n",
              "      <td>editor-in-chief</td>\n",
              "      <td>23/02/1999</td>\n",
              "      <td>1</td>\n",
              "      <td>23</td>\n",
              "      <td>2</td>\n",
              "      <td>1999</td>\n",
              "      <td>rock</td>\n",
              "    </tr>\n",
              "    <tr>\n",
              "      <th>22679</th>\n",
              "      <td>6455</td>\n",
              "      <td>sam prekop</td>\n",
              "      <td>sam prekop</td>\n",
              "      <td>http://pitchfork.com/reviews/albums/6455-sam-p...</td>\n",
              "      <td>8.9</td>\n",
              "      <td>0</td>\n",
              "      <td>ryan schreiber</td>\n",
              "      <td>editor-in-chief</td>\n",
              "      <td>09/02/1999</td>\n",
              "      <td>1</td>\n",
              "      <td>9</td>\n",
              "      <td>2</td>\n",
              "      <td>1999</td>\n",
              "      <td>electronic</td>\n",
              "    </tr>\n",
              "    <tr>\n",
              "      <th>22680</th>\n",
              "      <td>361</td>\n",
              "      <td>peel session</td>\n",
              "      <td>autechre</td>\n",
              "      <td>http://pitchfork.com/reviews/albums/361-peel-s...</td>\n",
              "      <td>7.7</td>\n",
              "      <td>0</td>\n",
              "      <td>ryan schreiber</td>\n",
              "      <td>editor-in-chief</td>\n",
              "      <td>09/02/1999</td>\n",
              "      <td>1</td>\n",
              "      <td>9</td>\n",
              "      <td>2</td>\n",
              "      <td>1999</td>\n",
              "      <td>electronic</td>\n",
              "    </tr>\n",
              "  </tbody>\n",
              "</table>\n",
              "<p>108 rows × 14 columns</p>\n",
              "</div>"
            ],
            "text/plain": [
              "       reviewid                       title            artist  \\\n",
              "12959     10871                   friend ep      grizzly bear   \n",
              "15272      2642                       ships  danielson famile   \n",
              "16649      8791                  wilderness        wilderness   \n",
              "17074       644      whatever and ever amen    ben folds five   \n",
              "17609      3654  thunder, lightning, strike      the go! team   \n",
              "...         ...                         ...               ...   \n",
              "22656      4324    rehearsals for departure     damien jurado   \n",
              "22657      7449       budakhan mindphone ep      squarepusher   \n",
              "22666      7460       fell in love at 22 ep      starflyer 59   \n",
              "22679      6455                  sam prekop        sam prekop   \n",
              "22680       361                peel session          autechre   \n",
              "\n",
              "                                                     url  score  \\\n",
              "12959  http://pitchfork.com/reviews/albums/10871-frie...    8.5   \n",
              "15272    http://pitchfork.com/reviews/albums/2642-ships/    9.1   \n",
              "16649  http://pitchfork.com/reviews/albums/8791-wilde...    8.5   \n",
              "17074  http://pitchfork.com/reviews/albums/644-whatev...    7.6   \n",
              "17609  http://pitchfork.com/reviews/albums/3654-thund...    8.7   \n",
              "...                                                  ...    ...   \n",
              "22656  http://pitchfork.com/reviews/albums/4324-rehea...    8.2   \n",
              "22657  http://pitchfork.com/reviews/albums/7449-budak...    7.5   \n",
              "22666  http://pitchfork.com/reviews/albums/7460-fell-...    8.5   \n",
              "22679  http://pitchfork.com/reviews/albums/6455-sam-p...    8.9   \n",
              "22680  http://pitchfork.com/reviews/albums/361-peel-s...    7.7   \n",
              "\n",
              "       best_new_music          author      author_type    pub_date  \\\n",
              "12959               1  ryan schreiber  editor-in-chief  06/11/2007   \n",
              "15272               1  ryan schreiber  editor-in-chief  10/05/2006   \n",
              "16649               1  ryan schreiber  editor-in-chief  23/06/2005   \n",
              "17074               0  ryan schreiber  editor-in-chief  22/03/2005   \n",
              "17609               1  ryan schreiber  editor-in-chief  26/10/2004   \n",
              "...               ...             ...              ...         ...   \n",
              "22656               0  ryan schreiber  editor-in-chief  04/03/1999   \n",
              "22657               0  ryan schreiber  editor-in-chief  02/03/1999   \n",
              "22666               0  ryan schreiber  editor-in-chief  23/02/1999   \n",
              "22679               0  ryan schreiber  editor-in-chief  09/02/1999   \n",
              "22680               0  ryan schreiber  editor-in-chief  09/02/1999   \n",
              "\n",
              "       pub_weekday  pub_day  pub_month  pub_year       genre  \n",
              "12959            1        6         11      2007        rock  \n",
              "15272            2       10          5      2006        rock  \n",
              "16649            3       23          6      2005        rock  \n",
              "17074            1       22          3      2005        rock  \n",
              "17609            1       26         10      2004        rock  \n",
              "...            ...      ...        ...       ...         ...  \n",
              "22656            3        4          3      1999        rock  \n",
              "22657            1        2          3      1999  electronic  \n",
              "22666            1       23          2      1999        rock  \n",
              "22679            1        9          2      1999  electronic  \n",
              "22680            1        9          2      1999  electronic  \n",
              "\n",
              "[108 rows x 14 columns]"
            ]
          },
          "execution_count": 6,
          "metadata": {},
          "output_type": "execute_result"
        }
      ],
      "source": [
        "df[df['author'] == 'ryan schreiber']"
      ]
    },
    {
      "cell_type": "code",
      "execution_count": null,
      "metadata": {
        "id": "W-TDRNrmuDR9",
        "outputId": "265ba5d1-9040-4bb2-f363-c7edffa1c2c6"
      },
      "outputs": [
        {
          "data": {
            "text/plain": [
              "(22690, 14)"
            ]
          },
          "execution_count": 7,
          "metadata": {},
          "output_type": "execute_result"
        }
      ],
      "source": [
        "df.shape"
      ]
    },
    {
      "cell_type": "code",
      "execution_count": null,
      "metadata": {
        "id": "8bFTPaOkuDSA"
      },
      "outputs": [],
      "source": [
        "df_new = df.drop(['reviewid', 'title', 'url', 'author_type', 'pub_weekday', 'pub_day', 'pub_month'], axis = 1)"
      ]
    },
    {
      "cell_type": "code",
      "execution_count": null,
      "metadata": {
        "id": "tBd94J8wuDSC",
        "outputId": "743bf8cc-5f29-4e4a-8246-0f02d020ab45"
      },
      "outputs": [
        {
          "data": {
            "text/html": [
              "<div>\n",
              "<style scoped>\n",
              "    .dataframe tbody tr th:only-of-type {\n",
              "        vertical-align: middle;\n",
              "    }\n",
              "\n",
              "    .dataframe tbody tr th {\n",
              "        vertical-align: top;\n",
              "    }\n",
              "\n",
              "    .dataframe thead th {\n",
              "        text-align: right;\n",
              "    }\n",
              "</style>\n",
              "<table border=\"1\" class=\"dataframe\">\n",
              "  <thead>\n",
              "    <tr style=\"text-align: right;\">\n",
              "      <th></th>\n",
              "      <th>artist</th>\n",
              "      <th>score</th>\n",
              "      <th>best_new_music</th>\n",
              "      <th>author</th>\n",
              "      <th>pub_date</th>\n",
              "      <th>genre</th>\n",
              "    </tr>\n",
              "  </thead>\n",
              "  <tbody>\n",
              "    <tr>\n",
              "      <th>0</th>\n",
              "      <td>massive attack</td>\n",
              "      <td>9.3</td>\n",
              "      <td>0</td>\n",
              "      <td>nate patrin</td>\n",
              "      <td>08/01/2017</td>\n",
              "      <td>electronic</td>\n",
              "    </tr>\n",
              "    <tr>\n",
              "      <th>1</th>\n",
              "      <td>krallice</td>\n",
              "      <td>7.9</td>\n",
              "      <td>0</td>\n",
              "      <td>zoe camp</td>\n",
              "      <td>07/01/2017</td>\n",
              "      <td>metal</td>\n",
              "    </tr>\n",
              "    <tr>\n",
              "      <th>2</th>\n",
              "      <td>uranium club</td>\n",
              "      <td>7.3</td>\n",
              "      <td>0</td>\n",
              "      <td>david glickman</td>\n",
              "      <td>07/01/2017</td>\n",
              "      <td>rock</td>\n",
              "    </tr>\n",
              "    <tr>\n",
              "      <th>3</th>\n",
              "      <td>kleenex, liliput</td>\n",
              "      <td>9.0</td>\n",
              "      <td>1</td>\n",
              "      <td>jenn pelly</td>\n",
              "      <td>06/01/2017</td>\n",
              "      <td>rock</td>\n",
              "    </tr>\n",
              "    <tr>\n",
              "      <th>4</th>\n",
              "      <td>taso</td>\n",
              "      <td>8.1</td>\n",
              "      <td>0</td>\n",
              "      <td>kevin lozano</td>\n",
              "      <td>06/01/2017</td>\n",
              "      <td>electronic</td>\n",
              "    </tr>\n",
              "  </tbody>\n",
              "</table>\n",
              "</div>"
            ],
            "text/plain": [
              "             artist  score  best_new_music          author    pub_date  \\\n",
              "0    massive attack    9.3               0     nate patrin  08/01/2017   \n",
              "1          krallice    7.9               0        zoe camp  07/01/2017   \n",
              "2      uranium club    7.3               0  david glickman  07/01/2017   \n",
              "3  kleenex, liliput    9.0               1      jenn pelly  06/01/2017   \n",
              "4              taso    8.1               0    kevin lozano  06/01/2017   \n",
              "\n",
              "        genre  \n",
              "0  electronic  \n",
              "1       metal  \n",
              "2        rock  \n",
              "3        rock  \n",
              "4  electronic  "
            ]
          },
          "execution_count": 51,
          "metadata": {},
          "output_type": "execute_result"
        }
      ],
      "source": [
        "df_new.head(5)"
      ]
    },
    {
      "cell_type": "code",
      "execution_count": null,
      "metadata": {
        "id": "T6lIuneluDSD",
        "outputId": "c90fcf8e-bef6-44c3-f233-2dd9d86d7169"
      },
      "outputs": [
        {
          "data": {
            "text/plain": [
              "<seaborn.axisgrid.PairGrid at 0x2584fa24790>"
            ]
          },
          "execution_count": 27,
          "metadata": {},
          "output_type": "execute_result"
        },
        {
          "data": {
            "image/png": "[encoded data removed]",
            "text/plain": [
              "<Figure size 500x500 with 6 Axes>"
            ]
          },
          "metadata": {},
          "output_type": "display_data"
        }
      ],
      "source": [
        "sns.pairplot(df_new)"
      ]
    },
    {
      "cell_type": "markdown",
      "source": [
        "# Music album scores and \"Best New Music\" designations.\n",
        "*   Top-Left Plot (Score Distribution): This plot resembles a strip plot combined\n",
        "with a histogram, showing the distribution of scores on a vertical axis. Most\n",
        "scores are concentrated around the middle range (around 6 to 8), with fewer scores at the extremes (0-2 and 9-10). This indicates a normal-like distribution of scores with few albums receiving very low or very high scores.\n",
        "\n",
        "*   Top-Right Plot (Score vs. Best New Music): This plot appears to be a categorical scatter plot showing scores on the x-axis and the binary \"Best New Music\" designation on the y-axis. It illustrates that albums designated as \"Best New Music\" typically have high scores, with a cluster around 8 to 10. The plot indicates a clear correlation between high scores and the likelihood of an album being designated as \"Best New Music.\"\n",
        "\n",
        "*   Bottom-Left Plot (Best New Music vs. Score): This plot is likely intended to be a similar scatter plot as the top-right, but with axes swapped. However, it doesn't seem to provide additional information beyond what's already shown in the top-right plot.\n",
        "\n",
        "*   Bottom-Right Plot (Best New Music Distribution): This appears to be a histogram or bar plot for the binary \"Best New Music\" designation. It demonstrates that the vast majority of albums are not designated as \"Best New Music,\" consistent with the pie chart you provided earlier."
      ],
      "metadata": {
        "id": "322MjyPX8TGI"
      }
    },
    {
      "cell_type": "markdown",
      "metadata": {
        "id": "fLCtufuouDSE"
      },
      "source": [
        "Unique authors"
      ]
    },
    {
      "cell_type": "code",
      "execution_count": null,
      "metadata": {
        "id": "WsOaQux0uDSE",
        "outputId": "f1918adc-d782-4777-8711-101555623776"
      },
      "outputs": [
        {
          "data": {
            "text/plain": [
              "432"
            ]
          },
          "execution_count": 28,
          "metadata": {},
          "output_type": "execute_result"
        }
      ],
      "source": [
        "len(df_new['author'].unique())"
      ]
    },
    {
      "cell_type": "markdown",
      "metadata": {
        "id": "_luUxSG9uDSF"
      },
      "source": [
        "Unique artists"
      ]
    },
    {
      "cell_type": "code",
      "execution_count": null,
      "metadata": {
        "id": "IfO1fXFGuDSF",
        "outputId": "59d1d8db-060a-476e-c824-6716a3616b97"
      },
      "outputs": [
        {
          "data": {
            "text/plain": [
              "8714"
            ]
          },
          "execution_count": 29,
          "metadata": {},
          "output_type": "execute_result"
        }
      ],
      "source": [
        "len(df_new['artist'].unique())"
      ]
    },
    {
      "cell_type": "markdown",
      "metadata": {
        "id": "TdbCbqquuDSF"
      },
      "source": [
        "Column types"
      ]
    },
    {
      "cell_type": "code",
      "execution_count": null,
      "metadata": {
        "id": "8Y3gfRu_uDSH",
        "outputId": "974b0f50-74ab-4953-e72f-97670af96d02"
      },
      "outputs": [
        {
          "data": {
            "text/plain": [
              "artist             object\n",
              "score             float64\n",
              "best_new_music      int64\n",
              "author             object\n",
              "pub_date           object\n",
              "genre              object\n",
              "dtype: object"
            ]
          },
          "execution_count": 30,
          "metadata": {},
          "output_type": "execute_result"
        }
      ],
      "source": [
        "df_new.dtypes"
      ]
    },
    {
      "cell_type": "code",
      "execution_count": null,
      "metadata": {
        "id": "arVrVj1YuDSI"
      },
      "outputs": [],
      "source": [
        "df_new['artist'] = df_new['artist'].astype(str)\n",
        "df_new['author'] = df_new['author'].astype(str)\n",
        "df_new['genre'] = df_new['genre'].astype(str)"
      ]
    },
    {
      "cell_type": "markdown",
      "metadata": {
        "id": "_F10ndTJuDSI"
      },
      "source": [
        "Genre distribution"
      ]
    },
    {
      "cell_type": "code",
      "execution_count": null,
      "metadata": {
        "id": "I-yrRjG1uDSI",
        "outputId": "bfd69985-f287-4236-be92-9445f814bbf3",
        "colab": {
          "base_uri": "https://localhost:8080/",
          "height": 508
        }
      },
      "outputs": [
        {
          "output_type": "display_data",
          "data": {
            "text/plain": [
              "<Figure size 640x480 with 1 Axes>"
            ],
            "image/png": "[encoded data removed]"
          },
          "metadata": {}
        }
      ],
      "source": [
        "plt.hist(df_new['genre'], bins=10, alpha=1)\n",
        "plt.xticks(rotation=90)\n",
        "plt.show()"
      ]
    },
    {
      "cell_type": "markdown",
      "source": [
        "# Number of reviews by music genre\n",
        "*   There are approximately 2300 reviews with a missing \"genre\" variable\n",
        "*   The bar chart illustrates a significant disparity in the number of reviews across different genres. The 'rock' genre has the most reviews by a large margin, followed by 'electronic' and 'metal'.\n",
        "*   The prominence of 'rock' in the data set is striking, with the genre receiving more than double the reviews of 'electronic', the next most-reviewed genre. This could indicate a particular focus or preference for rock music within the publication or a reflection of a larger volume of rock albums being released during the time period covered by the data.\n",
        "*   Other genres such as 'rap', 'experimental', 'pop/r&b', 'folk/country', 'jazz', and 'global' have significantly fewer reviews. This suggests that these genres are either less covered by the publication or less prevalent in the album releases reviewed.\n"
      ],
      "metadata": {
        "id": "o3ImtPpn53Qi"
      }
    },
    {
      "cell_type": "markdown",
      "metadata": {
        "id": "GfmxkrQguDSJ"
      },
      "source": [
        "Missing Value Analysis"
      ]
    },
    {
      "cell_type": "code",
      "execution_count": null,
      "metadata": {
        "id": "yHF8KAaouDSK",
        "outputId": "497a0268-b05a-4dc8-803b-8b517c3a346e",
        "colab": {
          "base_uri": "https://localhost:8080/",
          "height": 112
        }
      },
      "outputs": [
        {
          "output_type": "execute_result",
          "data": {
            "text/plain": [
              "     artist  score  best_new_music                author    pub_date genre\n",
              "3678    nan    7.4               0  grayson haver currin  27/02/2014   nan\n",
              "3734    nan    5.0               0             ian cohen  12/02/2014   nan"
            ],
            "text/html": [
              "\n",
              "  <div id=\"df-360dcf90-670e-481d-8b0a-2761682b8622\" class=\"colab-df-container\">\n",
              "    <div>\n",
              "<style scoped>\n",
              "    .dataframe tbody tr th:only-of-type {\n",
              "        vertical-align: middle;\n",
              "    }\n",
              "\n",
              "    .dataframe tbody tr th {\n",
              "        vertical-align: top;\n",
              "    }\n",
              "\n",
              "    .dataframe thead th {\n",
              "        text-align: right;\n",
              "    }\n",
              "</style>\n",
              "<table border=\"1\" class=\"dataframe\">\n",
              "  <thead>\n",
              "    <tr style=\"text-align: right;\">\n",
              "      <th></th>\n",
              "      <th>artist</th>\n",
              "      <th>score</th>\n",
              "      <th>best_new_music</th>\n",
              "      <th>author</th>\n",
              "      <th>pub_date</th>\n",
              "      <th>genre</th>\n",
              "    </tr>\n",
              "  </thead>\n",
              "  <tbody>\n",
              "    <tr>\n",
              "      <th>3678</th>\n",
              "      <td>nan</td>\n",
              "      <td>7.4</td>\n",
              "      <td>0</td>\n",
              "      <td>grayson haver currin</td>\n",
              "      <td>27/02/2014</td>\n",
              "      <td>nan</td>\n",
              "    </tr>\n",
              "    <tr>\n",
              "      <th>3734</th>\n",
              "      <td>nan</td>\n",
              "      <td>5.0</td>\n",
              "      <td>0</td>\n",
              "      <td>ian cohen</td>\n",
              "      <td>12/02/2014</td>\n",
              "      <td>nan</td>\n",
              "    </tr>\n",
              "  </tbody>\n",
              "</table>\n",
              "</div>\n",
              "    <div class=\"colab-df-buttons\">\n",
              "\n",
              "  <div class=\"colab-df-container\">\n",
              "    <button class=\"colab-df-convert\" onclick=\"convertToInteractive('df-360dcf90-670e-481d-8b0a-2761682b8622')\"\n",
              "            title=\"Convert this dataframe to an interactive table.\"\n",
              "            style=\"display:none;\">\n",
              "\n",
              "  <svg xmlns=\"http://www.w3.org/2000/svg\" height=\"24px\" viewBox=\"0 -960 960 960\">\n",
              "    <path d=\"M120-120v-720h720v720H120Zm60-500h600v-160H180v160Zm220 220h160v-160H400v160Zm0 220h160v-160H400v160ZM180-400h160v-160H180v160Zm440 0h160v-160H620v160ZM180-180h160v-160H180v160Zm440 0h160v-160H620v160Z\"/>\n",
              "  </svg>\n",
              "    </button>\n",
              "\n",
              "  <style>\n",
              "    .colab-df-container {\n",
              "      display:flex;\n",
              "      gap: 12px;\n",
              "    }\n",
              "\n",
              "    .colab-df-convert {\n",
              "      background-color: #E8F0FE;\n",
              "      border: none;\n",
              "      border-radius: 50%;\n",
              "      cursor: pointer;\n",
              "      display: none;\n",
              "      fill: #1967D2;\n",
              "      height: 32px;\n",
              "      padding: 0 0 0 0;\n",
              "      width: 32px;\n",
              "    }\n",
              "\n",
              "    .colab-df-convert:hover {\n",
              "      background-color: #E2EBFA;\n",
              "      box-shadow: 0px 1px 2px rgba(60, 64, 67, 0.3), 0px 1px 3px 1px rgba(60, 64, 67, 0.15);\n",
              "      fill: #174EA6;\n",
              "    }\n",
              "\n",
              "    .colab-df-buttons div {\n",
              "      margin-bottom: 4px;\n",
              "    }\n",
              "\n",
              "    [theme=dark] .colab-df-convert {\n",
              "      background-color: #3B4455;\n",
              "      fill: #D2E3FC;\n",
              "    }\n",
              "\n",
              "    [theme=dark] .colab-df-convert:hover {\n",
              "      background-color: #434B5C;\n",
              "      box-shadow: 0px 1px 3px 1px rgba(0, 0, 0, 0.15);\n",
              "      filter: drop-shadow(0px 1px 2px rgba(0, 0, 0, 0.3));\n",
              "      fill: #FFFFFF;\n",
              "    }\n",
              "  </style>\n",
              "\n",
              "    <script>\n",
              "      const buttonEl =\n",
              "        document.querySelector('#df-360dcf90-670e-481d-8b0a-2761682b8622 button.colab-df-convert');\n",
              "      buttonEl.style.display =\n",
              "        google.colab.kernel.accessAllowed ? 'block' : 'none';\n",
              "\n",
              "      async function convertToInteractive(key) {\n",
              "        const element = document.querySelector('#df-360dcf90-670e-481d-8b0a-2761682b8622');\n",
              "        const dataTable =\n",
              "          await google.colab.kernel.invokeFunction('convertToInteractive',\n",
              "                                                    [key], {});\n",
              "        if (!dataTable) return;\n",
              "\n",
              "        const docLinkHtml = 'Like what you see? Visit the ' +\n",
              "          '<a target=\"_blank\" href=https://colab.research.google.com/notebooks/data_table.ipynb>data table notebook</a>'\n",
              "          + ' to learn more about interactive tables.';\n",
              "        element.innerHTML = '';\n",
              "        dataTable['output_type'] = 'display_data';\n",
              "        await google.colab.output.renderOutput(dataTable, element);\n",
              "        const docLink = document.createElement('div');\n",
              "        docLink.innerHTML = docLinkHtml;\n",
              "        element.appendChild(docLink);\n",
              "      }\n",
              "    </script>\n",
              "  </div>\n",
              "\n",
              "\n",
              "<div id=\"df-af97c2e6-7a2a-445a-af90-e557848a8e78\">\n",
              "  <button class=\"colab-df-quickchart\" onclick=\"quickchart('df-af97c2e6-7a2a-445a-af90-e557848a8e78')\"\n",
              "            title=\"Suggest charts.\"\n",
              "            style=\"display:none;\">\n",
              "\n",
              "<svg xmlns=\"http://www.w3.org/2000/svg\" height=\"24px\"viewBox=\"0 0 24 24\"\n",
              "     width=\"24px\">\n",
              "    <g>\n",
              "        <path d=\"M19 3H5c-1.1 0-2 .9-2 2v14c0 1.1.9 2 2 2h14c1.1 0 2-.9 2-2V5c0-1.1-.9-2-2-2zM9 17H7v-7h2v7zm4 0h-2V7h2v10zm4 0h-2v-4h2v4z\"/>\n",
              "    </g>\n",
              "</svg>\n",
              "  </button>\n",
              "\n",
              "<style>\n",
              "  .colab-df-quickchart {\n",
              "      --bg-color: #E8F0FE;\n",
              "      --fill-color: #1967D2;\n",
              "      --hover-bg-color: #E2EBFA;\n",
              "      --hover-fill-color: #174EA6;\n",
              "      --disabled-fill-color: #AAA;\n",
              "      --disabled-bg-color: #DDD;\n",
              "  }\n",
              "\n",
              "  [theme=dark] .colab-df-quickchart {\n",
              "      --bg-color: #3B4455;\n",
              "      --fill-color: #D2E3FC;\n",
              "      --hover-bg-color: #434B5C;\n",
              "      --hover-fill-color: #FFFFFF;\n",
              "      --disabled-bg-color: #3B4455;\n",
              "      --disabled-fill-color: #666;\n",
              "  }\n",
              "\n",
              "  .colab-df-quickchart {\n",
              "    background-color: var(--bg-color);\n",
              "    border: none;\n",
              "    border-radius: 50%;\n",
              "    cursor: pointer;\n",
              "    display: none;\n",
              "    fill: var(--fill-color);\n",
              "    height: 32px;\n",
              "    padding: 0;\n",
              "    width: 32px;\n",
              "  }\n",
              "\n",
              "  .colab-df-quickchart:hover {\n",
              "    background-color: var(--hover-bg-color);\n",
              "    box-shadow: 0 1px 2px rgba(60, 64, 67, 0.3), 0 1px 3px 1px rgba(60, 64, 67, 0.15);\n",
              "    fill: var(--button-hover-fill-color);\n",
              "  }\n",
              "\n",
              "  .colab-df-quickchart-complete:disabled,\n",
              "  .colab-df-quickchart-complete:disabled:hover {\n",
              "    background-color: var(--disabled-bg-color);\n",
              "    fill: var(--disabled-fill-color);\n",
              "    box-shadow: none;\n",
              "  }\n",
              "\n",
              "  .colab-df-spinner {\n",
              "    border: 2px solid var(--fill-color);\n",
              "    border-color: transparent;\n",
              "    border-bottom-color: var(--fill-color);\n",
              "    animation:\n",
              "      spin 1s steps(1) infinite;\n",
              "  }\n",
              "\n",
              "  @keyframes spin {\n",
              "    0% {\n",
              "      border-color: transparent;\n",
              "      border-bottom-color: var(--fill-color);\n",
              "      border-left-color: var(--fill-color);\n",
              "    }\n",
              "    20% {\n",
              "      border-color: transparent;\n",
              "      border-left-color: var(--fill-color);\n",
              "      border-top-color: var(--fill-color);\n",
              "    }\n",
              "    30% {\n",
              "      border-color: transparent;\n",
              "      border-left-color: var(--fill-color);\n",
              "      border-top-color: var(--fill-color);\n",
              "      border-right-color: var(--fill-color);\n",
              "    }\n",
              "    40% {\n",
              "      border-color: transparent;\n",
              "      border-right-color: var(--fill-color);\n",
              "      border-top-color: var(--fill-color);\n",
              "    }\n",
              "    60% {\n",
              "      border-color: transparent;\n",
              "      border-right-color: var(--fill-color);\n",
              "    }\n",
              "    80% {\n",
              "      border-color: transparent;\n",
              "      border-right-color: var(--fill-color);\n",
              "      border-bottom-color: var(--fill-color);\n",
              "    }\n",
              "    90% {\n",
              "      border-color: transparent;\n",
              "      border-bottom-color: var(--fill-color);\n",
              "    }\n",
              "  }\n",
              "</style>\n",
              "\n",
              "  <script>\n",
              "    async function quickchart(key) {\n",
              "      const quickchartButtonEl =\n",
              "        document.querySelector('#' + key + ' button');\n",
              "      quickchartButtonEl.disabled = true;  // To prevent multiple clicks.\n",
              "      quickchartButtonEl.classList.add('colab-df-spinner');\n",
              "      try {\n",
              "        const charts = await google.colab.kernel.invokeFunction(\n",
              "            'suggestCharts', [key], {});\n",
              "      } catch (error) {\n",
              "        console.error('Error during call to suggestCharts:', error);\n",
              "      }\n",
              "      quickchartButtonEl.classList.remove('colab-df-spinner');\n",
              "      quickchartButtonEl.classList.add('colab-df-quickchart-complete');\n",
              "    }\n",
              "    (() => {\n",
              "      let quickchartButtonEl =\n",
              "        document.querySelector('#df-af97c2e6-7a2a-445a-af90-e557848a8e78 button');\n",
              "      quickchartButtonEl.style.display =\n",
              "        google.colab.kernel.accessAllowed ? 'block' : 'none';\n",
              "    })();\n",
              "  </script>\n",
              "</div>\n",
              "    </div>\n",
              "  </div>\n"
            ]
          },
          "metadata": {},
          "execution_count": 7
        }
      ],
      "source": [
        "df_new[df_new['artist'] == 'nan']"
      ]
    },
    {
      "cell_type": "code",
      "execution_count": null,
      "metadata": {
        "id": "VbeJ76dIuDSK",
        "outputId": "7b5d307d-48a9-4dcc-bae3-f0ed291fb0b9",
        "colab": {
          "base_uri": "https://localhost:8080/",
          "height": 53
        }
      },
      "outputs": [
        {
          "output_type": "execute_result",
          "data": {
            "text/plain": [
              "Empty DataFrame\n",
              "Columns: [artist, score, best_new_music, author, pub_date, genre]\n",
              "Index: []"
            ],
            "text/html": [
              "\n",
              "  <div id=\"df-432b1b7b-5ce4-41dc-946a-d8f32cf209d9\" class=\"colab-df-container\">\n",
              "    <div>\n",
              "<style scoped>\n",
              "    .dataframe tbody tr th:only-of-type {\n",
              "        vertical-align: middle;\n",
              "    }\n",
              "\n",
              "    .dataframe tbody tr th {\n",
              "        vertical-align: top;\n",
              "    }\n",
              "\n",
              "    .dataframe thead th {\n",
              "        text-align: right;\n",
              "    }\n",
              "</style>\n",
              "<table border=\"1\" class=\"dataframe\">\n",
              "  <thead>\n",
              "    <tr style=\"text-align: right;\">\n",
              "      <th></th>\n",
              "      <th>artist</th>\n",
              "      <th>score</th>\n",
              "      <th>best_new_music</th>\n",
              "      <th>author</th>\n",
              "      <th>pub_date</th>\n",
              "      <th>genre</th>\n",
              "    </tr>\n",
              "  </thead>\n",
              "  <tbody>\n",
              "  </tbody>\n",
              "</table>\n",
              "</div>\n",
              "    <div class=\"colab-df-buttons\">\n",
              "\n",
              "  <div class=\"colab-df-container\">\n",
              "    <button class=\"colab-df-convert\" onclick=\"convertToInteractive('df-432b1b7b-5ce4-41dc-946a-d8f32cf209d9')\"\n",
              "            title=\"Convert this dataframe to an interactive table.\"\n",
              "            style=\"display:none;\">\n",
              "\n",
              "  <svg xmlns=\"http://www.w3.org/2000/svg\" height=\"24px\" viewBox=\"0 -960 960 960\">\n",
              "    <path d=\"M120-120v-720h720v720H120Zm60-500h600v-160H180v160Zm220 220h160v-160H400v160Zm0 220h160v-160H400v160ZM180-400h160v-160H180v160Zm440 0h160v-160H620v160ZM180-180h160v-160H180v160Zm440 0h160v-160H620v160Z\"/>\n",
              "  </svg>\n",
              "    </button>\n",
              "\n",
              "  <style>\n",
              "    .colab-df-container {\n",
              "      display:flex;\n",
              "      gap: 12px;\n",
              "    }\n",
              "\n",
              "    .colab-df-convert {\n",
              "      background-color: #E8F0FE;\n",
              "      border: none;\n",
              "      border-radius: 50%;\n",
              "      cursor: pointer;\n",
              "      display: none;\n",
              "      fill: #1967D2;\n",
              "      height: 32px;\n",
              "      padding: 0 0 0 0;\n",
              "      width: 32px;\n",
              "    }\n",
              "\n",
              "    .colab-df-convert:hover {\n",
              "      background-color: #E2EBFA;\n",
              "      box-shadow: 0px 1px 2px rgba(60, 64, 67, 0.3), 0px 1px 3px 1px rgba(60, 64, 67, 0.15);\n",
              "      fill: #174EA6;\n",
              "    }\n",
              "\n",
              "    .colab-df-buttons div {\n",
              "      margin-bottom: 4px;\n",
              "    }\n",
              "\n",
              "    [theme=dark] .colab-df-convert {\n",
              "      background-color: #3B4455;\n",
              "      fill: #D2E3FC;\n",
              "    }\n",
              "\n",
              "    [theme=dark] .colab-df-convert:hover {\n",
              "      background-color: #434B5C;\n",
              "      box-shadow: 0px 1px 3px 1px rgba(0, 0, 0, 0.15);\n",
              "      filter: drop-shadow(0px 1px 2px rgba(0, 0, 0, 0.3));\n",
              "      fill: #FFFFFF;\n",
              "    }\n",
              "  </style>\n",
              "\n",
              "    <script>\n",
              "      const buttonEl =\n",
              "        document.querySelector('#df-432b1b7b-5ce4-41dc-946a-d8f32cf209d9 button.colab-df-convert');\n",
              "      buttonEl.style.display =\n",
              "        google.colab.kernel.accessAllowed ? 'block' : 'none';\n",
              "\n",
              "      async function convertToInteractive(key) {\n",
              "        const element = document.querySelector('#df-432b1b7b-5ce4-41dc-946a-d8f32cf209d9');\n",
              "        const dataTable =\n",
              "          await google.colab.kernel.invokeFunction('convertToInteractive',\n",
              "                                                    [key], {});\n",
              "        if (!dataTable) return;\n",
              "\n",
              "        const docLinkHtml = 'Like what you see? Visit the ' +\n",
              "          '<a target=\"_blank\" href=https://colab.research.google.com/notebooks/data_table.ipynb>data table notebook</a>'\n",
              "          + ' to learn more about interactive tables.';\n",
              "        element.innerHTML = '';\n",
              "        dataTable['output_type'] = 'display_data';\n",
              "        await google.colab.output.renderOutput(dataTable, element);\n",
              "        const docLink = document.createElement('div');\n",
              "        docLink.innerHTML = docLinkHtml;\n",
              "        element.appendChild(docLink);\n",
              "      }\n",
              "    </script>\n",
              "  </div>\n",
              "\n",
              "    </div>\n",
              "  </div>\n"
            ]
          },
          "metadata": {},
          "execution_count": 8
        }
      ],
      "source": [
        "df_new[df_new['score'] == 'nan']"
      ]
    },
    {
      "cell_type": "code",
      "execution_count": null,
      "metadata": {
        "id": "_GrpthzGuDSL",
        "outputId": "de3cb91e-af75-46dc-f621-4ebaf85c84c5"
      },
      "outputs": [
        {
          "data": {
            "text/html": [
              "<div>\n",
              "<style scoped>\n",
              "    .dataframe tbody tr th:only-of-type {\n",
              "        vertical-align: middle;\n",
              "    }\n",
              "\n",
              "    .dataframe tbody tr th {\n",
              "        vertical-align: top;\n",
              "    }\n",
              "\n",
              "    .dataframe thead th {\n",
              "        text-align: right;\n",
              "    }\n",
              "</style>\n",
              "<table border=\"1\" class=\"dataframe\">\n",
              "  <thead>\n",
              "    <tr style=\"text-align: right;\">\n",
              "      <th></th>\n",
              "      <th>artist</th>\n",
              "      <th>score</th>\n",
              "      <th>best_new_music</th>\n",
              "      <th>author</th>\n",
              "      <th>pub_date</th>\n",
              "      <th>genre</th>\n",
              "    </tr>\n",
              "  </thead>\n",
              "  <tbody>\n",
              "  </tbody>\n",
              "</table>\n",
              "</div>"
            ],
            "text/plain": [
              "Empty DataFrame\n",
              "Columns: [artist, score, best_new_music, author, pub_date, genre]\n",
              "Index: []"
            ]
          },
          "execution_count": 35,
          "metadata": {},
          "output_type": "execute_result"
        }
      ],
      "source": [
        "df_new[df_new['best_new_music'] == 'nan']"
      ]
    },
    {
      "cell_type": "code",
      "execution_count": null,
      "metadata": {
        "id": "rjcTTdSLuDSL",
        "outputId": "add1465e-0aab-4fc4-9352-a8c7888f28bb"
      },
      "outputs": [
        {
          "data": {
            "text/html": [
              "<div>\n",
              "<style scoped>\n",
              "    .dataframe tbody tr th:only-of-type {\n",
              "        vertical-align: middle;\n",
              "    }\n",
              "\n",
              "    .dataframe tbody tr th {\n",
              "        vertical-align: top;\n",
              "    }\n",
              "\n",
              "    .dataframe thead th {\n",
              "        text-align: right;\n",
              "    }\n",
              "</style>\n",
              "<table border=\"1\" class=\"dataframe\">\n",
              "  <thead>\n",
              "    <tr style=\"text-align: right;\">\n",
              "      <th></th>\n",
              "      <th>artist</th>\n",
              "      <th>score</th>\n",
              "      <th>best_new_music</th>\n",
              "      <th>author</th>\n",
              "      <th>pub_date</th>\n",
              "      <th>genre</th>\n",
              "    </tr>\n",
              "  </thead>\n",
              "  <tbody>\n",
              "  </tbody>\n",
              "</table>\n",
              "</div>"
            ],
            "text/plain": [
              "Empty DataFrame\n",
              "Columns: [artist, score, best_new_music, author, pub_date, genre]\n",
              "Index: []"
            ]
          },
          "execution_count": 36,
          "metadata": {},
          "output_type": "execute_result"
        }
      ],
      "source": [
        "df_new[df_new['author'] == 'nan']"
      ]
    },
    {
      "cell_type": "code",
      "execution_count": null,
      "metadata": {
        "id": "qNVg1aqtuDSM",
        "outputId": "14798014-28ae-41e6-95d6-b6c8515f428e"
      },
      "outputs": [
        {
          "data": {
            "text/html": [
              "<div>\n",
              "<style scoped>\n",
              "    .dataframe tbody tr th:only-of-type {\n",
              "        vertical-align: middle;\n",
              "    }\n",
              "\n",
              "    .dataframe tbody tr th {\n",
              "        vertical-align: top;\n",
              "    }\n",
              "\n",
              "    .dataframe thead th {\n",
              "        text-align: right;\n",
              "    }\n",
              "</style>\n",
              "<table border=\"1\" class=\"dataframe\">\n",
              "  <thead>\n",
              "    <tr style=\"text-align: right;\">\n",
              "      <th></th>\n",
              "      <th>artist</th>\n",
              "      <th>score</th>\n",
              "      <th>best_new_music</th>\n",
              "      <th>author</th>\n",
              "      <th>pub_date</th>\n",
              "      <th>genre</th>\n",
              "    </tr>\n",
              "  </thead>\n",
              "  <tbody>\n",
              "  </tbody>\n",
              "</table>\n",
              "</div>"
            ],
            "text/plain": [
              "Empty DataFrame\n",
              "Columns: [artist, score, best_new_music, author, pub_date, genre]\n",
              "Index: []"
            ]
          },
          "execution_count": 37,
          "metadata": {},
          "output_type": "execute_result"
        }
      ],
      "source": [
        "df_new[df_new['pub_date'] == 'nan']"
      ]
    },
    {
      "cell_type": "code",
      "execution_count": null,
      "metadata": {
        "id": "g8ZEbCYAuDSM",
        "outputId": "dc3c8939-ab53-4d34-a0e2-ad04d04fa531"
      },
      "outputs": [
        {
          "data": {
            "text/html": [
              "<div>\n",
              "<style scoped>\n",
              "    .dataframe tbody tr th:only-of-type {\n",
              "        vertical-align: middle;\n",
              "    }\n",
              "\n",
              "    .dataframe tbody tr th {\n",
              "        vertical-align: top;\n",
              "    }\n",
              "\n",
              "    .dataframe thead th {\n",
              "        text-align: right;\n",
              "    }\n",
              "</style>\n",
              "<table border=\"1\" class=\"dataframe\">\n",
              "  <thead>\n",
              "    <tr style=\"text-align: right;\">\n",
              "      <th></th>\n",
              "      <th>artist</th>\n",
              "      <th>score</th>\n",
              "      <th>best_new_music</th>\n",
              "      <th>author</th>\n",
              "      <th>pub_date</th>\n",
              "      <th>genre</th>\n",
              "    </tr>\n",
              "  </thead>\n",
              "  <tbody>\n",
              "    <tr>\n",
              "      <th>5</th>\n",
              "      <td>various artists</td>\n",
              "      <td>7.4</td>\n",
              "      <td>0</td>\n",
              "      <td>vanessa okoth-obbo</td>\n",
              "      <td>05/01/2017</td>\n",
              "      <td>nan</td>\n",
              "    </tr>\n",
              "    <tr>\n",
              "      <th>15</th>\n",
              "      <td>various artists</td>\n",
              "      <td>6.6</td>\n",
              "      <td>0</td>\n",
              "      <td>louis pattison</td>\n",
              "      <td>02/01/2017</td>\n",
              "      <td>nan</td>\n",
              "    </tr>\n",
              "    <tr>\n",
              "      <th>43</th>\n",
              "      <td>jess williamson</td>\n",
              "      <td>7.7</td>\n",
              "      <td>0</td>\n",
              "      <td>benjamin scheim</td>\n",
              "      <td>17/12/2016</td>\n",
              "      <td>nan</td>\n",
              "    </tr>\n",
              "    <tr>\n",
              "      <th>45</th>\n",
              "      <td>adr</td>\n",
              "      <td>7.1</td>\n",
              "      <td>0</td>\n",
              "      <td>thea ballard</td>\n",
              "      <td>17/12/2016</td>\n",
              "      <td>nan</td>\n",
              "    </tr>\n",
              "    <tr>\n",
              "      <th>59</th>\n",
              "      <td>various artists</td>\n",
              "      <td>4.8</td>\n",
              "      <td>0</td>\n",
              "      <td>jayson greene</td>\n",
              "      <td>10/12/2016</td>\n",
              "      <td>nan</td>\n",
              "    </tr>\n",
              "    <tr>\n",
              "      <th>...</th>\n",
              "      <td>...</td>\n",
              "      <td>...</td>\n",
              "      <td>...</td>\n",
              "      <td>...</td>\n",
              "      <td>...</td>\n",
              "      <td>...</td>\n",
              "    </tr>\n",
              "    <tr>\n",
              "      <th>22556</th>\n",
              "      <td>soundtrack</td>\n",
              "      <td>4.9</td>\n",
              "      <td>0</td>\n",
              "      <td>sarah zupko</td>\n",
              "      <td>15/06/1999</td>\n",
              "      <td>nan</td>\n",
              "    </tr>\n",
              "    <tr>\n",
              "      <th>22560</th>\n",
              "      <td>the vandermark five</td>\n",
              "      <td>7.4</td>\n",
              "      <td>0</td>\n",
              "      <td>chip chanko</td>\n",
              "      <td>08/06/1999</td>\n",
              "      <td>nan</td>\n",
              "    </tr>\n",
              "    <tr>\n",
              "      <th>22650</th>\n",
              "      <td>songs: ohia</td>\n",
              "      <td>8.0</td>\n",
              "      <td>0</td>\n",
              "      <td>taylor m. clark</td>\n",
              "      <td>15/03/1999</td>\n",
              "      <td>nan</td>\n",
              "    </tr>\n",
              "    <tr>\n",
              "      <th>22668</th>\n",
              "      <td>the the</td>\n",
              "      <td>7.6</td>\n",
              "      <td>0</td>\n",
              "      <td>michael sandlin</td>\n",
              "      <td>23/02/1999</td>\n",
              "      <td>nan</td>\n",
              "    </tr>\n",
              "    <tr>\n",
              "      <th>22689</th>\n",
              "      <td>neil hamburger</td>\n",
              "      <td>6.5</td>\n",
              "      <td>0</td>\n",
              "      <td>jason josephes</td>\n",
              "      <td>05/01/1999</td>\n",
              "      <td>nan</td>\n",
              "    </tr>\n",
              "  </tbody>\n",
              "</table>\n",
              "<p>2371 rows × 6 columns</p>\n",
              "</div>"
            ],
            "text/plain": [
              "                    artist  score  best_new_music              author  \\\n",
              "5          various artists    7.4               0  vanessa okoth-obbo   \n",
              "15         various artists    6.6               0      louis pattison   \n",
              "43         jess williamson    7.7               0     benjamin scheim   \n",
              "45                     adr    7.1               0        thea ballard   \n",
              "59         various artists    4.8               0       jayson greene   \n",
              "...                    ...    ...             ...                 ...   \n",
              "22556           soundtrack    4.9               0         sarah zupko   \n",
              "22560  the vandermark five    7.4               0         chip chanko   \n",
              "22650          songs: ohia    8.0               0     taylor m. clark   \n",
              "22668              the the    7.6               0     michael sandlin   \n",
              "22689       neil hamburger    6.5               0      jason josephes   \n",
              "\n",
              "         pub_date genre  \n",
              "5      05/01/2017   nan  \n",
              "15     02/01/2017   nan  \n",
              "43     17/12/2016   nan  \n",
              "45     17/12/2016   nan  \n",
              "59     10/12/2016   nan  \n",
              "...           ...   ...  \n",
              "22556  15/06/1999   nan  \n",
              "22560  08/06/1999   nan  \n",
              "22650  15/03/1999   nan  \n",
              "22668  23/02/1999   nan  \n",
              "22689  05/01/1999   nan  \n",
              "\n",
              "[2371 rows x 6 columns]"
            ]
          },
          "execution_count": 53,
          "metadata": {},
          "output_type": "execute_result"
        }
      ],
      "source": [
        "df_new[df_new['genre'] == 'nan']"
      ]
    },
    {
      "cell_type": "code",
      "execution_count": null,
      "metadata": {
        "id": "GE9rCf-LuDSM"
      },
      "outputs": [],
      "source": [
        "def nan_applier(row):\n",
        "    if row['genre'] == 'nan':\n",
        "        return np.NaN\n",
        "    return row['genre']"
      ]
    },
    {
      "cell_type": "code",
      "execution_count": null,
      "metadata": {
        "id": "gkcHU4GquDSN"
      },
      "outputs": [],
      "source": [
        "df_new['genre'] = df_new.apply(nan_applier, axis=1)"
      ]
    },
    {
      "cell_type": "code",
      "execution_count": null,
      "metadata": {
        "id": "A4VCSdU1uDSN"
      },
      "outputs": [],
      "source": [
        "def nan_applier2(row):\n",
        "    if row['artist'] == 'nan':\n",
        "        return np.NaN\n",
        "    return row['artist']"
      ]
    },
    {
      "cell_type": "code",
      "execution_count": null,
      "metadata": {
        "id": "QXi8ku9XuDSN"
      },
      "outputs": [],
      "source": [
        "df_new['artist'] = df_new.apply(nan_applier2, axis=1)"
      ]
    },
    {
      "cell_type": "code",
      "execution_count": null,
      "metadata": {
        "id": "6-CsWasKuDSN",
        "outputId": "4c84511f-3588-47ac-8bd0-698da8dccf41",
        "colab": {
          "base_uri": "https://localhost:8080/"
        }
      },
      "outputs": [
        {
          "output_type": "execute_result",
          "data": {
            "text/plain": [
              "artist               2\n",
              "score                0\n",
              "best_new_music       0\n",
              "author               0\n",
              "pub_date             0\n",
              "pub_year             0\n",
              "genre             2371\n",
              "dtype: int64"
            ]
          },
          "metadata": {},
          "execution_count": 24
        }
      ],
      "source": [
        "df_new.isnull().sum()"
      ]
    },
    {
      "cell_type": "code",
      "execution_count": null,
      "metadata": {
        "id": "pQbQJtckuDSO"
      },
      "outputs": [],
      "source": [
        "df_new = df_new.dropna(subset=['artist'])"
      ]
    },
    {
      "cell_type": "markdown",
      "source": [
        "# **Visualizations **"
      ],
      "metadata": {
        "id": "gwHhhEwb1Q5s"
      }
    },
    {
      "cell_type": "code",
      "source": [
        "import matplotlib.pyplot as plt\n",
        "import seaborn as sns\n",
        "\n",
        "# Set the aesthetic style of the plots\n",
        "sns.set_style(\"whitegrid\")\n",
        "\n",
        "# Plot the distribution of album scores\n",
        "plt.figure(figsize=(10, 6))\n",
        "sns.histplot(df_new['score'], bins=20, kde=False)\n",
        "plt.title('Distribution of Album Scores')\n",
        "plt.xlabel('Score')\n",
        "plt.ylabel('Count')\n",
        "plt.show()\n"
      ],
      "metadata": {
        "colab": {
          "base_uri": "https://localhost:8080/",
          "height": 564
        },
        "id": "gyHLkhiYzTKZ",
        "outputId": "d815f0a5-c99a-4bb4-b69b-265d0be1a840"
      },
      "execution_count": null,
      "outputs": [
        {
          "output_type": "display_data",
          "data": {
            "text/plain": [
              "<Figure size 1000x600 with 1 Axes>"
            ],
            "image/png": "[encoded data removed]"
          },
          "metadata": {}
        }
      ]
    },
    {
      "cell_type": "markdown",
      "source": [
        "# Distribution of Album Scores\n",
        "*   The x-axis: Score(0 - 10)\n",
        "*   The y-axis: Count(represents the number of albums that have received each score)\n",
        "*   20 bins\n",
        "\n",
        "The album scores appear to be roughly normally distributed with a slight left skew, indicating that there are more albums with higher scores than lower ones.\n",
        "\n",
        "Most albums have scores between 6 and 8, with a peak just below the score of 8 range.\n",
        "\n",
        "*   Suggests that most albums received a score in the range of 7 - 8\n",
        "\n",
        "# Extremes\n",
        "There aren't a lot of albums rated with a score close to 0 or 10, thus suggesting that extreme scores are rare\n",
        "\n",
        "# Interpretations\n",
        "Albums are generally rated positive as the majority of the albums have received scores between 6 - 8.5\n",
        "\n"
      ],
      "metadata": {
        "id": "4ujQBhLJzg6C"
      }
    },
    {
      "cell_type": "code",
      "source": [
        "plt.figure(figsize=(14, 7))\n",
        "sns.countplot(data=df_new, x='pub_year', color='skyblue')\n",
        "plt.title('Number of Reviews Published Each Year')\n",
        "plt.xlabel('Year')\n",
        "plt.ylabel('Number of Reviews')\n",
        "plt.xticks(rotation=45)\n",
        "plt.tight_layout()\n",
        "plt.show()\n"
      ],
      "metadata": {
        "colab": {
          "base_uri": "https://localhost:8080/",
          "height": 458
        },
        "id": "G8zJBi92zavH",
        "outputId": "07609df9-e1ee-497f-ee4b-6a0d88138a88"
      },
      "execution_count": null,
      "outputs": [
        {
          "output_type": "display_data",
          "data": {
            "text/plain": [
              "<Figure size 1400x700 with 1 Axes>"
            ],
            "image/png": "[encoded data removed]"
          },
          "metadata": {}
        }
      ]
    },
    {
      "cell_type": "markdown",
      "source": [
        "#  Number of reviews published each year\n",
        "*   There is a clear trend where the number of reviews increases over the years, starting from a few hundred in 1999 to a peak in the mid-2000s.\n",
        "*   The peak of this graph occurs between 2006 and 2010, which could suggest a period of increased productivity or a particularly vibrant era for the music industry, prompting a higher number of reviews.\n",
        "*   After the peak period, there is a noticeable decline in the number of reviews published each year. By 2017, the count has decreased significantly from the peak. This decline could be due to several factors, such as changes in the publication’s focus or strategy, the impact of the digital revolution on the music industry, a shift in consumer behavior towards streaming services and social media, or other external factors.\n",
        "*   The decline post-2010 may coincide with industry-wide shifts in how music is consumed and reviewed, such as the rise of social media platforms and music streaming services, which could have decentralized the music review process from a few major publications to a broader array of online platforms and influencers."
      ],
      "metadata": {
        "id": "dShXSt5vz_HM"
      }
    },
    {
      "cell_type": "code",
      "source": [
        "# Pie chart for the frequency of \"Best New Music\"\n",
        "best_new_music_counts = df_new['best_new_music'].value_counts()\n",
        "\n",
        "plt.figure(figsize=(8, 8))\n",
        "plt.pie(best_new_music_counts, labels=['Not Best New Music', 'Best New Music'], autopct='%1.1f%%', startangle=140)\n",
        "plt.title('Proportion of Albums Marked as \"Best New Music\"')\n",
        "plt.show()\n"
      ],
      "metadata": {
        "colab": {
          "base_uri": "https://localhost:8080/",
          "height": 675
        },
        "id": "VcXCiQMZzqXs",
        "outputId": "4af02f5a-09f2-4760-f773-9450e74694b1"
      },
      "execution_count": null,
      "outputs": [
        {
          "output_type": "display_data",
          "data": {
            "text/plain": [
              "<Figure size 800x800 with 1 Axes>"
            ],
            "image/png": "[encoded data removed]"
          },
          "metadata": {}
        }
      ]
    },
    {
      "cell_type": "markdown",
      "source": [
        "# Proportion of albums marked as \"Best New Music.\"\n",
        "*   The pie chart clearly illustrates that a small fraction of albums, exactly 5%, receive the \"Best New Music\" title\n",
        "*   The small percentage highlighted for \"Best New Music\" suggests that this designation is quite exclusive, which could imply a high level of prestige associated with it.\n",
        "*   The chart may also reflect the publication's editorial strategy, where they reserve this designation for only the most standout albums to maintain its significance and impact. It is a way to differentiate the top echelon of music from the rest, which could guide readers towards what the publication considers must-listen albums.\n",
        "*   For musicians and record labels, being part of the 5% could be seen as a major accolade and potentially influence the success of an album. It may affect consumer behavior, critical reception, and could have implications for sales and streaming numbers.\n"
      ],
      "metadata": {
        "id": "-Q4ZGcbQ0cYE"
      }
    },
    {
      "cell_type": "code",
      "source": [
        "plt.figure(figsize=(14, 7))\n",
        "genre_counts = df_new['genre'].value_counts()\n",
        "sns.barplot(x=genre_counts.index, y=genre_counts.values, palette='viridis')\n",
        "plt.title('Number of Reviews by Genre')\n",
        "plt.xlabel('Genre')\n",
        "plt.ylabel('Number of Reviews')\n",
        "plt.xticks(rotation=90)\n",
        "plt.tight_layout()\n",
        "plt.show()\n"
      ],
      "metadata": {
        "colab": {
          "base_uri": "https://localhost:8080/",
          "height": 458
        },
        "id": "q7pgnc-H0deh",
        "outputId": "152601bf-3b47-457b-89c7-14947052301d"
      },
      "execution_count": null,
      "outputs": [
        {
          "output_type": "display_data",
          "data": {
            "text/plain": [
              "<Figure size 1400x700 with 1 Axes>"
            ],
            "image/png": "[encoded data removed]"
          },
          "metadata": {}
        }
      ]
    },
    {
      "cell_type": "markdown",
      "source": [
        "\n",
        "\n",
        "# Number of reviews by genre\n",
        "*   The rock genre dominates the chart with the highest number of reviews, suggesting either a higher output of rock albums, a preference or focus of the publication on the rock genre, or a larger audience interest in rock music reviews. Electronic and experimental genres also have a significant number of reviews, indicating these genres are also well-represented in the publication.\n",
        "*   Genres like jazz, folk/country, and global have significantly fewer reviews, which could suggest a number of possibilities: these genres may have fewer album releases, they might be less popular among the publication's readership, or the publication may have fewer resources or less editorial interest in covering these genres as extensively. But it could also be that the people who listen to this kind of music just don't leave reviews.\n",
        "*   This distribution can inform readers about the market coverage of different genres by the publication and may also reflect market trends in music consumption. It could also influence artists and record labels in these less-covered genres to seek reviews from other outlets that may provide more attention to their music.\n",
        "\n"
      ],
      "metadata": {
        "id": "Unpe-V430mEH"
      }
    },
    {
      "cell_type": "markdown",
      "source": [
        " Checking the relationship between the score and the \"Best New Music\" designation to see if higher scores are associated with this designation"
      ],
      "metadata": {
        "id": "2i_qHBkJ0485"
      }
    },
    {
      "cell_type": "code",
      "source": [
        "plt.figure(figsize=(10, 6))\n",
        "sns.boxplot(x='best_new_music', y='score', data=df_new)\n",
        "plt.title('Score Distribution by \"Best New Music\" Designation')\n",
        "plt.xlabel('Best New Music')\n",
        "plt.ylabel('Score')\n",
        "plt.xticks([0, 1], ['No', 'Yes'])\n",
        "plt.show()\n"
      ],
      "metadata": {
        "colab": {
          "base_uri": "https://localhost:8080/",
          "height": 564
        },
        "id": "DwFNBsQI0kuj",
        "outputId": "d48b9e2b-10e1-4108-e954-c0866cfe10cb"
      },
      "execution_count": null,
      "outputs": [
        {
          "output_type": "display_data",
          "data": {
            "text/plain": [
              "<Figure size 1000x600 with 1 Axes>"
            ],
            "image/png": "[encoded data removed]"
          },
          "metadata": {}
        }
      ]
    },
    {
      "cell_type": "markdown",
      "source": [
        "# Comparison of distribution of scores for albums with and without the \"Best New Music\" designation\n",
        "*    Albums without the \"Best New Music\" designation have a median score around 7, while the median for \"Best New Music\" albums is higher, around 8.5.\n",
        "*   Albums with the \"Best New Music\" designation have a narrower IQR, suggesting that their scores are more consistently high. Conversely, albums without the designation have a wider range of scores.\n",
        "*   There are several outliers for both categories, as shown by the individual points beyond the 'whiskers'. Notably, there are albums without the \"Best New Music\" designation that have very low scores, as well as a few albums with the designation that score exceptionally high, close to 10.\n",
        "*   List item\n",
        "\n",
        "\n",
        " There's a clear difference between the two groups: albums that are designated as \"Best New Music\" tend to have higher scores, with a higher median and a narrower interquartile range. This indicates that not only do \"Best New Music\" albums score higher on average, but their scores are also more consistently high."
      ],
      "metadata": {
        "id": "-cYje8I01NoZ"
      }
    },
    {
      "cell_type": "code",
      "source": [],
      "metadata": {
        "id": "OaAe300303rQ"
      },
      "execution_count": null,
      "outputs": []
    }
  ],
  "metadata": {
    "kernelspec": {
      "display_name": "Python 3 (ipykernel)",
      "language": "python",
      "name": "python3"
    },
    "language_info": {
      "codemirror_mode": {
        "name": "ipython",
        "version": 3
      },
      "file_extension": ".py",
      "mimetype": "text/x-python",
      "name": "python",
      "nbconvert_exporter": "python",
      "pygments_lexer": "ipython3",
      "version": "3.9.10"
    },
    "colab": {
      "provenance": []
    }
  },
  "nbformat": 4,
  "nbformat_minor": 0
}